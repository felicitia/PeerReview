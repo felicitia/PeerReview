{
 "cells": [
  {
   "cell_type": "code",
   "execution_count": 2,
   "metadata": {
    "collapsed": true
   },
   "outputs": [
    {
     "name": "stdout",
     "output_type": "stream",
     "text": [
      "[Profile(id = '~Andrew_McCallum1',number = None,tcdate = 1473703013000,tmdate = 1591114200722,referent = None,packaging = None,invitation = '~/-/profiles',readers = ['OpenReview.net', '~Andrew_McCallum1'],nonreaders = [],signatures = ['~Andrew_McCallum1'],writers = ['OpenReview.net'],content = {'preferredEmail': '****@cs.umass.edu', 'gender': 'Male', 'homepage': 'http://www.cs.umass.edu/~mccallum', 'gscholar': 'https://scholar.google.com/citations?user=yILa1y0AAAAJ&hl=en&oi=ao', 'dblp': 'https://dblp.org/pid/m/AndrewMcCallum', 'wikipedia': 'https://en.wikipedia.org/wiki/Andrew_McCallum', 'linkedin': 'https://www.linkedin.com/in/andrew-mccallum-a412', 'emails': ['****@cs.umass.edu', '****@cs.cmu.edu', '****@cs.rochester.edu', '****@gmail.com', '****@whizbang.com', '****@justresearch.com'], 'history': [{'position': 'Full Professor', 'start': 2009, 'end': None, 'institution': {'domain': 'cs.umass.edu', 'name': 'Department of Computer Science, University of Massachusetts, Amherst'}}, {'position': 'Director', 'start': 2004, 'end': None, 'institution': {'domain': 'iesl.cs.umass.edu', 'name': 'Information Extraction and Synthesis Laboratory'}}, {'position': 'Associate Professor', 'start': 2002, 'end': 2009, 'institution': {'domain': 'cs.umass.edu', 'name': 'Department of Computer Science, University of Massachusetts, Amherst'}}, {'position': 'VP Research & Development', 'start': 2000, 'end': 2002, 'institution': {'domain': 'whizbang.com', 'name': 'WhizBang Labs'}}, {'position': 'Adjunct Faculty', 'start': 1998, 'end': 2002, 'institution': {'domain': 'cs.cmu.edu', 'name': 'School of Computer Science, Carnegie Mellon University'}}, {'position': 'Research Scientist', 'start': 1996, 'end': 2002, 'institution': {'domain': 'jprc.com', 'name': 'Justsystem Pittsburgh Research Corporation'}}, {'position': 'Postdoc', 'start': 1995, 'end': 1996, 'institution': {'domain': 'cs.cmu.edu', 'name': 'School of Computer Science, Carnegie Mellon University'}}, {'position': 'PhD student', 'start': 1991, 'end': 1995, 'institution': {'domain': 'cs.rochester.edu', 'name': 'Department of Computer Science, University of Rochester'}}, {'position': 'Research Staff', 'start': 1990, 'end': 1991, 'institution': {'domain': 'ohsu.edu', 'name': 'Oregon Health and Science University'}}, {'position': 'Undergrad student', 'start': 1985, 'end': 1989, 'institution': {'domain': 'cs.dartmouth.edu', 'name': 'Department of Computer Science, Dartmouth College'}}], 'relations': [{'end': None, 'relation': 'Coauthor', 'email': '****@microsoft.com', 'name': 'Paul Viola', 'start': None}, {'name': 'Pat Verga', 'email': '****@cs.umass.edu', 'start': 2016, 'end': None, 'relation': 'Coauthor'}, {'name': 'David Benjamin Belanger', 'email': '****@gmail.com', 'start': 2016, 'end': None, 'relation': 'Coauthor'}, {'name': 'Emma Strubell', 'email': '****@cs.umass.edu', 'start': 2016, 'end': None, 'relation': 'Coauthor'}, {'name': 'Trapit Bansal', 'email': '****@cs.umass.edu', 'start': 2016, 'end': None, 'relation': 'Coauthor'}, {'name': 'Zach  Bialecki', 'email': '****@gmail.com', 'relation': 'Coworker', 'start': 2016, 'end': None}, {'end': None, 'relation': 'Coauthor', 'email': '****@cs.umass.edu', 'name': 'Jeevan  Shankar', 'start': '2014'}, {'name': 'Kate  Silverstein', 'email': '****@iesl.cs.umass.edu', 'relation': 'Advisee', 'start': 2014, 'end': None}, {'name': 'Craig  Greenberg', 'email': '****@cs.umass.edu', 'relation': 'Advisee', 'start': 2014, 'end': None}, {'name': 'Thomas  Logan', 'email': '****@cs.umass.edu', 'relation': 'Coworker', 'start': 2014, 'end': None}, {'name': 'Nicholas  Monath', 'email': '****@cs.umass.edu', 'relation': 'Advisee', 'start': 2014, 'end': None}, {'name': 'Arvind Neelakantan', 'email': '****@gmail.com', 'relation': 'Advisee', 'start': 2013, 'end': None}, {'name': 'Emma  Strubell', 'email': '****@cs.umass.edu', 'relation': 'Advisee', 'start': 2013, 'end': None}, {'name': 'Ari  Kobren', 'email': '****@cs.umass.edu', 'relation': 'Advisee', 'start': 2012, 'end': None}, {'name': 'Michael Wick', 'email': '****@cs.umass.edu', 'relation': 'Advisee', 'start': 2012, 'end': None}, {'name': 'Gideon Mann', 'email': '****@gmail.com', 'relation': 'Postdoc Advisee', 'start': 2008, 'end': None}, {'name': 'Christopher J Pal', 'email': '****@polymtl.ca', 'relation': 'Postdoc Advisee', 'start': 2006, 'end': None}, {'name': 'Aron Culotta', 'email': '****@cs.umass.edu', 'relation': 'Advisee', 'start': 2004, 'end': None}, {'name': 'Charles Sutton', 'email': '****@cs.umass.edu', 'relation': 'Advisee', 'start': 2003, 'end': None}, {'name': 'Fernando Pereira', 'email': '****@google.com', 'relation': 'Coauthor', 'start': 1998, 'end': None}, {'name': 'Arvind Neelakantan', 'email': '****@gmail.com', 'start': 2014, 'end': 2015, 'relation': 'Coauthor'}, {'name': 'Samy Bengio', 'email': '****@google.com', 'relation': 'Coworker', 'start': 2014, 'end': 2015}, {'name': 'Jeevan Shankar', 'email': '****@cs.umass.edu', 'start': 2014, 'end': 2014, 'relation': 'Coauthor'}, {'name': 'Alexandre Tachard Passos', 'email': '****@google.com', 'start': 2014, 'end': 2014, 'relation': 'Coauthor'}, {'name': 'Limin Yao', 'email': '****@cs.umass.edu', 'relation': 'Advisee', 'start': 2008, 'end': 2014}, {'name': 'Sameer Singh', 'email': '****@cs.washington.edu', 'relation': 'Advisee', 'start': 2007, 'end': 2014}, {'name': 'B. Martin', 'email': '****@cs.umass.edu', 'start': 2013, 'end': 2013, 'relation': 'Coauthor'}, {'name': 'Jiaping Zheng', 'email': '****@cs.umass.edu', 'start': 2013, 'end': 2013, 'relation': 'Coauthor'}, {'name': 'Benjamin  Marlin', 'email': '****@cs.umass.edu', 'relation': 'Coauthor', 'start': 2013, 'end': 2013}, {'name': 'Sebastian Riedel', 'email': '****@gmail.com', 'start': 2010, 'end': 2013, 'relation': 'Coauthor'}, {'name': 'Sameer Singh', 'email': '****@cs.umass.edu', 'start': 2009, 'end': 2013, 'relation': 'Coauthor'}, {'name': 'Charles Sutton', 'email': '****@inf.ed.ac.uk', 'start': 2012, 'end': 2012, 'relation': 'Coauthor'}, {'name': 'Gerome Miklau', 'email': '****@cs.umass.edu', 'start': 2010, 'end': 2010, 'relation': 'Coauthor'}, {'name': 'Michael L. Wick', 'email': '****@cs.umass.edu', 'start': 2008, 'end': 2010, 'relation': 'Coauthor'}, {'name': 'Burr Settles', 'email': '****@cs.wisc.edu', 'start': 2009, 'end': 2009, 'relation': 'Coauthor'}, {'name': 'Karl Schultz', 'email': '****@cs.umass.edu', 'start': 2008, 'end': 2009, 'relation': 'Coauthor'}, {'name': 'Gregory Druck', 'email': '****@cs.umass.edu', 'start': 2007, 'end': 2009, 'relation': 'Coauthor'}, {'name': 'Gideon S. Mann', 'email': '****@gmail.com', 'start': 2007, 'end': 2009, 'relation': 'Coauthor'}, {'name': 'Xiaojin Zhu', 'email': '****@cs.wisc.edu', 'start': 2007, 'end': 2007, 'relation': 'Coauthor'}, {'name': 'Chris Pal', 'email': '****@cs.umass.edu', 'start': 2006, 'end': 2007, 'relation': 'Coauthor'}, {'name': 'Xuerui Wang', 'email': '****@cs.umass.edu', 'start': 2005, 'end': 2007, 'relation': 'Coauthor'}, {'name': 'Xing Wei', 'email': '****@cs.umass.edu', 'start': 2003, 'end': 2007, 'relation': 'Coauthor'}, {'name': 'Jonathan T. Betz', 'email': '****@google.com', 'start': 2006, 'end': 2006, 'relation': 'Coauthor'}, {'name': 'Trausti T. Kristjansson', 'email': '****@us.ibm.com', 'start': 2006, 'end': 2006, 'relation': 'Coauthor'}, {'name': 'Paul A. Viola', 'email': '****@microsoft.com', 'start': 2006, 'end': 2006, 'relation': 'Coauthor'}, {'name': 'Michael Sindelar', 'email': '****@student.umass.edu', 'start': 2006, 'end': 2006, 'relation': 'Coauthor'}, {'name': 'Natasha Mohanty', 'email': '****@cs.umass.edu', 'start': 2005, 'end': 2006, 'relation': 'Coauthor'}, {'name': 'Aron Culotta', 'email': '****@cs.umass.edu', 'start': 2004, 'end': 2006, 'relation': 'Coauthor'}, {'name': 'Ron Bekkerman', 'email': '****@cs.umass.edu', 'start': 2005, 'end': 2005, 'relation': 'Coauthor'}, {'name': 'Nadia Ghamrawi', 'email': '****@cs.umass.edu', 'start': 2005, 'end': 2005, 'relation': 'Coauthor'}, {'name': 'Ran El-Yaniv', 'email': '****@cs.technion.ac.il', 'start': 2005, 'end': 2005, 'relation': 'Coauthor'}, {'name': 'Jerod Weinman', 'email': '****@cs.umass.edu', 'start': 2004, 'end': 2004, 'relation': 'Coauthor'}, {'name': 'Allen R. Hanson', 'email': '****@cs.umass.edu', 'start': 2004, 'end': 2004, 'relation': 'Coauthor'}, {'name': 'David Pinto', 'email': '****@cs.umass.edu', 'start': 2003, 'end': 2003, 'relation': 'Coauthor'}, {'name': 'W. Bruce Croft', 'email': '****@cs.umass.edu', 'start': 2003, 'end': 2003, 'relation': 'Coauthor'}, {'name': 'Kamal Nigam', 'email': '****@cs.cmu.edu', 'start': 2000, 'end': 2000, 'relation': 'Coauthor'}, {'name': 'Lyle Ungar', 'email': '****@cis.upenn.edu', 'start': 2000, 'end': 2000, 'relation': 'Coauthor'}, {'start': 1995, 'end': 1996, 'email': '****@cs.cmu.edu', 'name': 'Tom Mitchell', 'relation': 'Postdoc Advisor'}, {'start': 1995, 'end': 1996, 'email': '****@stanford.edu', 'name': 'Sebastian Thrun', 'relation': 'Postdoc Advisor'}, {'start': 1991, 'end': 1995, 'email': '****@cs.rochester.edu', 'name': 'Dana Ballard', 'relation': 'PhD Advisor'}], 'expertise': [{'end': None, 'start': 2012, 'keywords': ['deep learning', 'natural language processing']}, {'end': None, 'start': 2012, 'keywords': ['knowledge bases', 'universal schema', 'matrix factorization', 'tensor factorization', 'embeddings']}, {'end': None, 'start': 2005, 'keywords': ['information integration', 'entity resolution']}, {'end': None, 'start': 2000, 'keywords': ['conditional random fields']}, {'end': None, 'start': 1995, 'keywords': ['machine learning', 'natural language processing']}, {'start': 2005, 'end': 2010, 'keywords': ['topic models', 'social network analysis', 'computational social science']}], 'names': [{'preferred': True, 'first': 'Andrew', 'middle': '', 'last': 'McCallum', 'username': '~Andrew_McCallum1'}, {'preferred': False, 'first': 'R.', 'middle': 'Andrew', 'last': 'McCallum', 'username': '~R._Andrew_McCallum1'}, {'first': 'Andrew', 'middle': 'K.', 'last': 'McCallum', 'username': '~Andrew_K._McCallum1', 'preferred': False}], 'emailsConfirmed': ['****@cs.cmu.edu', '****@cs.umass.edu', '****@gmail.com']},metaContent = {'preferredEmail': {'signatures': ['OpenReview.net']}, 'gender': {'signatures': ['OpenReview.net']}, 'homepage': {'signatures': ['OpenReview.net']}, 'gscholar': {'signatures': ['OpenReview.net']}, 'dblp': {'signatures': ['~Andrew_McCallum1']}, 'wikipedia': {'signatures': ['OpenReview.net']}, 'linkedin': {'signatures': ['OpenReview.net']}, 'emails': [{'signatures': ['OpenReview.net']}, {'signatures': ['OpenReview.net']}, {'signatures': ['OpenReview.net']}, {'signatures': ['OpenReview.net']}, {'signatures': ['OpenReview.net']}, {'signatures': ['ReSearcher.cc']}], 'history': [{'signatures': ['~Andrew_McCallum1']}, {'signatures': ['~Andrew_McCallum1']}, {'signatures': ['~Andrew_McCallum1']}, {'signatures': ['~Andrew_McCallum1']}, {'signatures': ['~Andrew_McCallum1']}, {'signatures': ['~Andrew_McCallum1']}, {'signatures': ['~Andrew_McCallum1']}, {'signatures': ['~Andrew_McCallum1']}, {'signatures': ['~Andrew_McCallum1']}, {'signatures': ['~Andrew_McCallum1']}], 'relations': [{'signatures': ['ReSearcher.cc']}, {'signatures': ['openacademic.ai/OpenReview_Inference']}, {'signatures': ['openacademic.ai/OpenReview_Inference']}, {'signatures': ['openacademic.ai/OpenReview_Inference']}, {'signatures': ['openacademic.ai/OpenReview_Inference']}, {'signatures': ['~Andrew_McCallum1']}, {'signatures': ['ReSearcher.cc']}, {'signatures': ['~Andrew_McCallum1']}, {'signatures': ['~Andrew_McCallum1']}, {'signatures': ['~Andrew_McCallum1']}, {'signatures': ['~Andrew_McCallum1']}, {'signatures': ['~Andrew_McCallum1']}, {'signatures': ['~Andrew_McCallum1']}, {'signatures': ['~Andrew_McCallum1']}, {'signatures': ['~Andrew_McCallum1']}, {'signatures': ['~Andrew_McCallum1']}, {'signatures': ['~Andrew_McCallum1']}, {'signatures': ['~Andrew_McCallum1']}, {'signatures': ['~Andrew_McCallum1']}, {'signatures': ['~Andrew_McCallum1']}, {'signatures': ['openacademic.ai/OpenReview_Inference']}, {'signatures': ['~Andrew_McCallum1']}, {'signatures': ['openacademic.ai/OpenReview_Inference']}, {'signatures': ['openacademic.ai/OpenReview_Inference']}, {'signatures': ['~Andrew_McCallum1']}, {'signatures': ['~Andrew_McCallum1']}, {'signatures': ['openacademic.ai/OpenReview_Inference']}, {'signatures': ['openacademic.ai/OpenReview_Inference']}, {'signatures': ['~Andrew_McCallum1']}, {'signatures': ['openacademic.ai/OpenReview_Inference']}, {'signatures': ['openacademic.ai/OpenReview_Inference']}, {'signatures': ['openacademic.ai/OpenReview_Inference']}, {'signatures': ['openacademic.ai/OpenReview_Inference']}, {'signatures': ['openacademic.ai/OpenReview_Inference']}, {'signatures': ['openacademic.ai/OpenReview_Inference']}, {'signatures': ['openacademic.ai/OpenReview_Inference']}, {'signatures': ['openacademic.ai/OpenReview_Inference']}, {'signatures': ['openacademic.ai/OpenReview_Inference']}, {'signatures': ['openacademic.ai/OpenReview_Inference']}, {'signatures': ['openacademic.ai/OpenReview_Inference']}, {'signatures': ['openacademic.ai/OpenReview_Inference']}, {'signatures': ['openacademic.ai/OpenReview_Inference']}, {'signatures': ['openacademic.ai/OpenReview_Inference']}, {'signatures': ['openacademic.ai/OpenReview_Inference']}, {'signatures': ['openacademic.ai/OpenReview_Inference']}, {'signatures': ['openacademic.ai/OpenReview_Inference']}, {'signatures': ['openacademic.ai/OpenReview_Inference']}, {'signatures': ['openacademic.ai/OpenReview_Inference']}, {'signatures': ['openacademic.ai/OpenReview_Inference']}, {'signatures': ['openacademic.ai/OpenReview_Inference']}, {'signatures': ['openacademic.ai/OpenReview_Inference']}, {'signatures': ['openacademic.ai/OpenReview_Inference']}, {'signatures': ['openacademic.ai/OpenReview_Inference']}, {'signatures': ['openacademic.ai/OpenReview_Inference']}, {'signatures': ['openacademic.ai/OpenReview_Inference']}, {'signatures': ['openacademic.ai/OpenReview_Inference']}, {'signatures': ['openacademic.ai/OpenReview_Inference']}, {'signatures': ['OpenReview.net']}, {'signatures': ['OpenReview.net']}, {'signatures': ['OpenReview.net']}], 'expertise': [{'signatures': ['OpenReview.net']}, {'signatures': ['OpenReview.net']}, {'signatures': ['OpenReview.net']}, {'signatures': ['OpenReview.net']}, {'signatures': ['OpenReview.net']}, {'signatures': ['OpenReview.net']}], 'names': [{'signatures': ['OpenReview.net']}, {'signatures': ['OpenReview.net']}, {'signatures': ['~Andrew_McCallum1']}]},active = True,password = True)]\n"
     ]
    }
   ],
   "source": [
    "import openreview\n",
    "\n",
    "client = openreview.Client(baseurl='https://api.openreview.net', username='yixuezhao@cs.umass.edu', password='7uQ@3t3Nwe2h6ZQ')\n",
    "notes = openreview.tools.iterget_notes(client, invitation='ICLR.cc/2019/Conference/-/Blind_Submission')\n",
    "# for note in notes:\n",
    "#     print(note)\n",
    "#     break\n",
    "all_decision_notes = openreview.tools.iterget_notes(client, invitation = 'MIDL.io/2019/Conference/-/Paper.*/Decision')\n",
    "results = client.search_profiles(first='Andrew', last='McCallum')\n",
    "print(results)"
   ]
  },
  {
   "cell_type": "code",
   "execution_count": 2,
   "outputs": [
    {
     "name": "stdout",
     "output_type": "stream",
     "text": [
      "Top-5 most similar pairs:\n",
      "0.3824 \n",
      " [1] Improved Training of Wasserstein GANs (Gulrajani et. al., NIPS 2017) \n",
      " [2] Generative Adversarial Networks (Goodfellow et. al., NIPS 2014)\n",
      "0.2056 \n",
      " This paper conducts an empirical study to compare 2 application-level caching recommendations from existing work (APLCache and Memoizelt), as well as the no-cache version, and the version with cache recommendations made by developers. \n",
      " [1] Improved Training of Wasserstein GANs (Gulrajani et. al., NIPS 2017)\n",
      "0.1923 \n",
      " This paper conducts an empirical study to compare 2 application-level caching recommendations from existing work (APLCache and Memoizelt), as well as the no-cache version, and the version with cache recommendations made by developers. \n",
      " [2] Generative Adversarial Networks (Goodfellow et. al., NIPS 2014)\n"
     ]
    }
   ],
   "source": [
    "from sentence_transformers import SentenceTransformer, util\n",
    "model = SentenceTransformer('paraphrase-distilroberta-base-v1')\n",
    "\n",
    "sentences = ['This paper conducts an empirical study to compare 2 application-level caching recommendations from existing work (APLCache and Memoizelt), as well as the no-cache version, and the version with cache recommendations made by developers.',\n",
    "          '[1] Improved Training of Wasserstein GANs (Gulrajani et. al., NIPS 2017)',\n",
    "          '[2] Generative Adversarial Networks (Goodfellow et. al., NIPS 2014)'\n",
    "          # 'The study is performed on 7 open-source web applications.',\n",
    "          # 'The results of the 2 existing work are not very promising compared to the other 2 baselines (no cache & developer version), but the paper presented 7 potential future directions to improve such caching recommendations.',\n",
    "          # 'I’ll give my overall comment here and please refer to detailed comments for concrete examples to support my judgement.',\n",
    "          # 'The paper is easy to follow and addresses an important problem. I appreciate the high-level study design and methodology, but unfortunately, many low-level decisions are not justified and most importantly, such choices may taint the results.',\n",
    "          # 'Furthermore, the scope of the study is too narrow to draw general conclusions (e.g., number of recommendations studied in total, number of techniques studied in total, types of caching recommendations studied).',\n",
    "          # 'Finally, the results are not promising and I’m not sure how beneficial the current state of the work is to our community. The paper does point out 7 future directions but they are at a high level without supporting evidence, which is not directly useful to future work, showing a lack of depth.',\n",
    "          # 'I would suggest showing *concrete* evidence on at least one direction that can indeed improve cache recommendations by implementing an “updated” technique that outperforms the 2 existing work in your study.',\n",
    "          # 'I believe this is valuable work, but the current state of the work is too premature to be published at TSE. I recommend Revise and Resubmit as “new”.',\n",
    "          # 'See my detailed comments for suggestions on further improvement.'\n",
    "          ]\n",
    "\n",
    "#Encode all sentences\n",
    "embeddings = model.encode(sentences)\n",
    "\n",
    "#Compute cosine similarity between all pairs\n",
    "cos_sim = util.pytorch_cos_sim(embeddings, embeddings)\n",
    "\n",
    "#Add all pairs to a list with their cosine similarity score\n",
    "all_sentence_combinations = []\n",
    "for i in range(len(cos_sim)-1):\n",
    "    for j in range(i+1, len(cos_sim)):\n",
    "        all_sentence_combinations.append([cos_sim[i][j], i, j])\n",
    "\n",
    "#Sort list by the highest cosine similarity score\n",
    "all_sentence_combinations = sorted(all_sentence_combinations, key=lambda x: x[0], reverse=True)\n",
    "\n",
    "print(\"Top-5 most similar pairs:\")\n",
    "for score, i, j in all_sentence_combinations[0:5]:\n",
    "    print(\"{:.4f} \\n {} \\n {}\".format(cos_sim[i][j], sentences[i], sentences[j]))"
   ],
   "metadata": {
    "collapsed": false,
    "pycharm": {
     "name": "#%%\n"
    }
   }
  }
 ],
 "metadata": {
  "kernelspec": {
   "display_name": "Python 3",
   "language": "python",
   "name": "python3"
  },
  "language_info": {
   "codemirror_mode": {
    "name": "ipython",
    "version": 2
   },
   "file_extension": ".py",
   "mimetype": "text/x-python",
   "name": "python",
   "nbconvert_exporter": "python",
   "pygments_lexer": "ipython2",
   "version": "2.7.6"
  }
 },
 "nbformat": 4,
 "nbformat_minor": 0
}