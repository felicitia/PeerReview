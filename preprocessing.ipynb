{
 "cells": [
  {
   "cell_type": "code",
   "execution_count": 4,
   "metadata": {
    "collapsed": true
   },
   "outputs": [],
   "source": [
    "import json\n",
    "\n",
    "def delete_empty_paragraph(text):\n",
    "    text_new = []\n",
    "    for paragraph in text:\n",
    "        if len(paragraph) != 0:\n",
    "            text_new.append(paragraph)\n",
    "    return text_new\n",
    "\n",
    "input_file = '../iclr-discourse-dataset/review_rebuttal_pair_dataset_debug/traindev_train.json'\n",
    "output_file = '../iclr-discourse-dataset/review_rebuttal_pair_dataset_debug/traindev_train_clean.json'\n",
    "\n",
    "with open(input_file) as f:\n",
    "  data = json.load(f)\n",
    "\n",
    "all_pairs = data['review_rebuttal_pairs']\n",
    "\n",
    "for current_pair in all_pairs:\n",
    "    review_text_clean = delete_empty_paragraph(current_pair['review_text'])\n",
    "    rebuttal_text_clean = delete_empty_paragraph(current_pair['rebuttal_text'])\n",
    "    current_pair['review_text'] = review_text_clean\n",
    "    current_pair['rebuttal_text'] = rebuttal_text_clean\n",
    "\n",
    "data['review_rebuttal_pairs'] = all_pairs\n",
    "\n",
    "with open(output_file, 'w') as outfile:\n",
    "    json.dump(data, outfile)\n"
   ]
  }
 ],
 "metadata": {
  "kernelspec": {
   "display_name": "Python 3",
   "language": "python",
   "name": "python3"
  },
  "language_info": {
   "codemirror_mode": {
    "name": "ipython",
    "version": 2
   },
   "file_extension": ".py",
   "mimetype": "text/x-python",
   "name": "python",
   "nbconvert_exporter": "python",
   "pygments_lexer": "ipython2",
   "version": "2.7.6"
  }
 },
 "nbformat": 4,
 "nbformat_minor": 0
}